{
 "cells": [
  {
   "cell_type": "markdown",
   "metadata": {
    "application/vnd.databricks.v1+cell": {
     "cellMetadata": {},
     "inputWidgets": {},
     "nuid": "3a1e9a5b-486d-4b61-b839-cf529584a62c",
     "showTitle": false,
     "tableResultSettingsMap": {},
     "title": ""
    }
   },
   "source": [
    "# MCT用のデータセット作成ノートブック\n",
    "\n",
    "参考：https://github.com/mosaicml/llm-foundry/blob/main/scripts/train/README.md"
   ]
  },
  {
   "cell_type": "markdown",
   "metadata": {
    "application/vnd.databricks.v1+cell": {
     "cellMetadata": {},
     "inputWidgets": {},
     "nuid": "328ed025-931e-4d45-ba35-481e4af38a3b",
     "showTitle": false,
     "tableResultSettingsMap": {},
     "title": ""
    }
   },
   "source": [
    "## 準備"
   ]
  },
  {
   "cell_type": "markdown",
   "metadata": {
    "application/vnd.databricks.v1+cell": {
     "cellMetadata": {},
     "inputWidgets": {},
     "nuid": "be48342e-4a7d-4d61-9d72-22332e39c70d",
     "showTitle": false,
     "tableResultSettingsMap": {},
     "title": ""
    }
   },
   "source": [
    "LLM-Foundryのリポジトリをクローン"
   ]
  },
  {
   "cell_type": "code",
   "execution_count": 0,
   "metadata": {
    "application/vnd.databricks.v1+cell": {
     "cellMetadata": {
      "byteLimit": 2048000,
      "rowLimit": 10000
     },
     "inputWidgets": {},
     "nuid": "18e3e619-afbf-4af0-983c-31f95e6de5f8",
     "showTitle": false,
     "tableResultSettingsMap": {},
     "title": ""
    }
   },
   "outputs": [],
   "source": [
    "!git clone https://github.com/mosaicml/llm-foundry.git /tmp/llm-foundry"
   ]
  },
  {
   "cell_type": "code",
   "execution_count": 0,
   "metadata": {
    "application/vnd.databricks.v1+cell": {
     "cellMetadata": {
      "byteLimit": 2048000,
      "rowLimit": 10000
     },
     "inputWidgets": {},
     "nuid": "ec9dd5c7-aaf7-48b1-a0e5-f653140949a8",
     "showTitle": false,
     "tableResultSettingsMap": {},
     "title": ""
    }
   },
   "outputs": [],
   "source": [
    "%cd /tmp/llm-foundry\n",
    "!pip install -e .\n",
    "!pip install --upgrade typing_extensions"
   ]
  },
  {
   "cell_type": "markdown",
   "metadata": {
    "application/vnd.databricks.v1+cell": {
     "cellMetadata": {},
     "inputWidgets": {},
     "nuid": "0ad73867-6bfd-4dce-96a2-2ba6c7126bf0",
     "showTitle": false,
     "tableResultSettingsMap": {},
     "title": ""
    }
   },
   "source": [
    "Hugging Faceにログイン（アクセストークン使用）"
   ]
  },
  {
   "cell_type": "code",
   "execution_count": 0,
   "metadata": {
    "application/vnd.databricks.v1+cell": {
     "cellMetadata": {
      "byteLimit": 2048000,
      "rowLimit": 10000
     },
     "inputWidgets": {},
     "nuid": "7f1d898a-6144-4230-add4-4668435650f8",
     "showTitle": false,
     "tableResultSettingsMap": {},
     "title": ""
    }
   },
   "outputs": [],
   "source": [
    "from huggingface_hub import login\n",
    "login()"
   ]
  },
  {
   "cell_type": "markdown",
   "metadata": {
    "application/vnd.databricks.v1+cell": {
     "cellMetadata": {},
     "inputWidgets": {},
     "nuid": "20f5d1f3-e31a-4a65-9ea7-80ca4450cfdf",
     "showTitle": false,
     "tableResultSettingsMap": {},
     "title": ""
    }
   },
   "source": [
    "Linuxコマンドを実行用に必要な値を環境変数に設定"
   ]
  },
  {
   "cell_type": "code",
   "execution_count": 0,
   "metadata": {
    "application/vnd.databricks.v1+cell": {
     "cellMetadata": {
      "byteLimit": 2048000,
      "rowLimit": 10000
     },
     "inputWidgets": {},
     "nuid": "d395682d-35b8-4178-8fb2-a324bc94128a",
     "showTitle": false,
     "tableResultSettingsMap": {},
     "title": ""
    }
   },
   "outputs": [],
   "source": [
    "import os\n",
    "os.environ['OUTPUT_ROOT'] = f\"/tmp/dataset\"\n",
    "os.environ['TOKENIZER_NAME'] = \"meta-llama/Llama-3.2-1B\"\n",
    "os.environ['MAX_SEQ_LEN'] = \"4096\""
   ]
  },
  {
   "cell_type": "markdown",
   "metadata": {
    "application/vnd.databricks.v1+cell": {
     "cellMetadata": {},
     "inputWidgets": {},
     "nuid": "3be0c630-7f39-4b13-8111-90738c818564",
     "showTitle": false,
     "tableResultSettingsMap": {},
     "title": ""
    }
   },
   "source": [
    "## 事前学習用データの準備"
   ]
  },
  {
   "cell_type": "markdown",
   "metadata": {
    "application/vnd.databricks.v1+cell": {
     "cellMetadata": {},
     "inputWidgets": {},
     "nuid": "ebe3dc56-7ed1-4162-97ef-6de5a08d6e14",
     "showTitle": false,
     "tableResultSettingsMap": {},
     "title": ""
    }
   },
   "source": [
    "### Option 1. 元データがJSON形式の場合"
   ]
  },
  {
   "cell_type": "code",
   "execution_count": 0,
   "metadata": {
    "application/vnd.databricks.v1+cell": {
     "cellMetadata": {
      "byteLimit": 2048000,
      "rowLimit": 10000
     },
     "inputWidgets": {},
     "nuid": "cc82be56-09fc-4734-a8cd-80ed18072a29",
     "showTitle": false,
     "tableResultSettingsMap": {},
     "title": ""
    }
   },
   "outputs": [],
   "source": [
    "from IPython.display import display\n",
    "import pandas as pd \n",
    "\n",
    "json_path = f'/tmp/llm-foundry/scripts/data_prep/example_data/arxiv.jsonl'\n",
    "\n",
    "pandasDF = pd.read_json(path_or_buf=json_path, lines=True)\n",
    "display(pandasDF)"
   ]
  },
  {
   "cell_type": "markdown",
   "metadata": {
    "application/vnd.databricks.v1+cell": {
     "cellMetadata": {},
     "inputWidgets": {},
     "nuid": "e7c11aa1-4437-4b2e-ac94-a9d2027f8efd",
     "showTitle": false,
     "tableResultSettingsMap": {},
     "title": ""
    }
   },
   "source": [
    "学習用"
   ]
  },
  {
   "cell_type": "code",
   "execution_count": 0,
   "metadata": {
    "application/vnd.databricks.v1+cell": {
     "cellMetadata": {
      "byteLimit": 2048000,
      "rowLimit": 10000
     },
     "inputWidgets": {},
     "nuid": "116752a9-5197-4271-a0e1-71509b7ced9f",
     "showTitle": false,
     "tableResultSettingsMap": {},
     "title": ""
    }
   },
   "outputs": [],
   "source": [
    "%%bash\n",
    "python3 /tmp/llm-foundry/scripts/data_prep/convert_dataset_json.py \\\n",
    "--path /tmp/llm-foundry/scripts/data_prep/example_data/arxiv.jsonl \\\n",
    "--out_root $OUTPUT_ROOT/my-copy-arxiv/train \\\n",
    "--split train \\\n",
    "--concat_tokens $MAX_SEQ_LEN \\\n",
    "--tokenizer $TOKENIZER_NAME \\\n",
    "--eos_text '<|end_of_text|>' \\\n",
    "--compression zstd"
   ]
  },
  {
   "cell_type": "markdown",
   "metadata": {
    "application/vnd.databricks.v1+cell": {
     "cellMetadata": {},
     "inputWidgets": {},
     "nuid": "443bfc24-4f08-419c-b420-c25350a4b78f",
     "showTitle": false,
     "tableResultSettingsMap": {},
     "title": ""
    }
   },
   "source": [
    "検証用"
   ]
  },
  {
   "cell_type": "code",
   "execution_count": 0,
   "metadata": {
    "application/vnd.databricks.v1+cell": {
     "cellMetadata": {
      "byteLimit": 2048000,
      "rowLimit": 10000
     },
     "inputWidgets": {},
     "nuid": "4d589751-65d7-4590-87c9-31ce32bb79b0",
     "showTitle": false,
     "tableResultSettingsMap": {},
     "title": ""
    }
   },
   "outputs": [],
   "source": [
    "%%bash\n",
    "python3 /tmp/llm-foundry/scripts/data_prep/convert_dataset_json.py \\\n",
    "--path /tmp/llm-foundry/scripts/data_prep/example_data/arxiv.jsonl \\\n",
    "--out_root $OUTPUT_ROOT/my-copy-arxiv/val \\\n",
    "--split train \\\n",
    "--concat_tokens $MAX_SEQ_LEN \\\n",
    "--tokenizer $TOKENIZER_NAME \\\n",
    "--eos_text '<|end_of_text|>' \\\n",
    "--compression zstd"
   ]
  },
  {
   "cell_type": "markdown",
   "metadata": {
    "application/vnd.databricks.v1+cell": {
     "cellMetadata": {},
     "inputWidgets": {},
     "nuid": "472b1345-7332-4099-91b0-d9aa4dd8851f",
     "showTitle": false,
     "tableResultSettingsMap": {},
     "title": ""
    }
   },
   "source": [
    "### Option 2. 元データがTEXTの場合"
   ]
  },
  {
   "cell_type": "code",
   "execution_count": 0,
   "metadata": {
    "application/vnd.databricks.v1+cell": {
     "cellMetadata": {
      "byteLimit": 2048000,
      "rowLimit": 10000
     },
     "inputWidgets": {},
     "nuid": "2f844810-294b-4dd0-96ec-9834a613331c",
     "showTitle": false,
     "tableResultSettingsMap": {},
     "title": ""
    }
   },
   "outputs": [],
   "source": [
    "%%bash\n",
    "mkdir /tmp/shakespeare && cd /tmp/shakespeare\n",
    "curl -O https://ocw.mit.edu/ans7870/6/6.006/s08/lecturenotes/files/t8.shakespeare.txt\n",
    "echo '------------------------------------------------------'\n",
    "head t8.shakespeare.txt"
   ]
  },
  {
   "cell_type": "markdown",
   "metadata": {
    "application/vnd.databricks.v1+cell": {
     "cellMetadata": {},
     "inputWidgets": {},
     "nuid": "90a9f082-448f-4829-8812-76c0cb52511f",
     "showTitle": false,
     "tableResultSettingsMap": {},
     "title": ""
    }
   },
   "source": [
    "学習用"
   ]
  },
  {
   "cell_type": "code",
   "execution_count": 0,
   "metadata": {
    "application/vnd.databricks.v1+cell": {
     "cellMetadata": {
      "byteLimit": 2048000,
      "rowLimit": 10000
     },
     "inputWidgets": {},
     "nuid": "d7174ad1-52ff-4095-b88d-781112f9c28e",
     "showTitle": false,
     "tableResultSettingsMap": {},
     "title": ""
    }
   },
   "outputs": [],
   "source": [
    "%%bash\n",
    "python3 /tmp/llm-foundry/scripts/data_prep/convert_text_to_mds.py \\\n",
    "  --output_folder $OUTPUT_ROOT/my-copy-shakespeare/train \\\n",
    "  --input_folder /tmp/shakespeare \\\n",
    "  --concat_tokens $MAX_SEQ_LEN \\\n",
    "  --tokenizer $TOKENIZER_NAME \\\n",
    "  --use_tokenizer_eos \\\n",
    "  --compression zstd"
   ]
  },
  {
   "cell_type": "markdown",
   "metadata": {
    "application/vnd.databricks.v1+cell": {
     "cellMetadata": {},
     "inputWidgets": {},
     "nuid": "80b5cc41-cbca-449e-82ae-2d18a479eff1",
     "showTitle": false,
     "tableResultSettingsMap": {},
     "title": ""
    }
   },
   "source": [
    "検証用"
   ]
  },
  {
   "cell_type": "code",
   "execution_count": 0,
   "metadata": {
    "application/vnd.databricks.v1+cell": {
     "cellMetadata": {
      "byteLimit": 2048000,
      "rowLimit": 10000
     },
     "inputWidgets": {},
     "nuid": "11efbf23-4a95-45ae-b35f-fe6169641062",
     "showTitle": false,
     "tableResultSettingsMap": {},
     "title": ""
    }
   },
   "outputs": [],
   "source": [
    "%%bash\n",
    "python3 /tmp/llm-foundry/scripts/data_prep/convert_text_to_mds.py \\\n",
    "  --output_folder $OUTPUT_ROOT/my-copy-shakespeare/val \\\n",
    "  --input_folder /tmp/shakespeare \\\n",
    "  --concat_tokens $MAX_SEQ_LEN \\\n",
    "  --tokenizer $TOKENIZER_NAME \\\n",
    "  --use_tokenizer_eos \\\n",
    "  --compression zstd"
   ]
  },
  {
   "cell_type": "markdown",
   "metadata": {
    "application/vnd.databricks.v1+cell": {
     "cellMetadata": {},
     "inputWidgets": {},
     "nuid": "bdfbc014-5425-4a81-8761-8fd189a31c94",
     "showTitle": false,
     "tableResultSettingsMap": {},
     "title": ""
    }
   },
   "source": [
    "### Option 3. 元データがHuggingFace Datasetの場合"
   ]
  },
  {
   "cell_type": "code",
   "execution_count": 0,
   "metadata": {
    "application/vnd.databricks.v1+cell": {
     "cellMetadata": {},
     "inputWidgets": {},
     "nuid": "b9248a31-9e0b-4bb2-a07e-1a334a5dab0d",
     "showTitle": false,
     "tableResultSettingsMap": {},
     "title": ""
    }
   },
   "outputs": [],
   "source": [
    "%%bash\n",
    "python3 /tmp/llm-foundry/scripts/data_prep/convert_dataset_hf.py \\\n",
    "  --dataset allenai/c4 \\\n",
    "  --data_subset ja \\\n",
    "  --out_root $OUTPUT_ROOT/my-copy-c4-ja \\\n",
    "  --splits train_small val_small \\\n",
    "  --concat_tokens $MAX_SEQ_LEN \\\n",
    "  --tokenizer $TOKENIZER_NAME \\\n",
    "  --eos_text '<|end_of_text|>' \\\n",
    "  --compression zstd"
   ]
  },
  {
   "cell_type": "markdown",
   "metadata": {
    "application/vnd.databricks.v1+cell": {
     "cellMetadata": {},
     "inputWidgets": {},
     "nuid": "9ee21202-3ca7-4e1f-824f-37e26fca4022",
     "showTitle": false,
     "tableResultSettingsMap": {},
     "title": ""
    }
   },
   "source": [
    "## ファインチューニング用データの準備"
   ]
  },
  {
   "cell_type": "code",
   "execution_count": 0,
   "metadata": {
    "application/vnd.databricks.v1+cell": {
     "cellMetadata": {
      "byteLimit": 2048000,
      "rowLimit": 10000
     },
     "inputWidgets": {},
     "nuid": "dd8a42a4-9b4e-4d1e-b971-4eea9cfc6f10",
     "showTitle": false,
     "tableResultSettingsMap": {},
     "title": ""
    }
   },
   "outputs": [],
   "source": [
    "%%bash\n",
    "python3 /tmp/llm-foundry/scripts/data_prep/convert_finetuning_dataset.py \\\n",
    "    --dataset kunishou/databricks-dolly-15k-ja \\\n",
    "    --preprocessor \"llmfoundry.data.finetuning.tasks:dolly_preprocessing_function\" \\\n",
    "    --splits train \\\n",
    "    --out_root $OUTPUT_ROOT/my-copy-dolly-15k-ja"
   ]
  }
 ],
 "metadata": {
  "application/vnd.databricks.v1+notebook": {
   "dashboards": [],
   "environmentMetadata": {
    "base_environment": "",
    "client": "1"
   },
   "language": "python",
   "notebookMetadata": {
    "mostRecentlyExecutedCommandWithImplicitDF": {
     "commandId": 2349986231631510,
     "dataframes": [
      "_sqldf"
     ]
    },
    "pythonIndentUnit": 2
   },
   "notebookName": "PrepareDataset",
   "widgets": {}
  },
  "language_info": {
   "name": "python"
  }
 },
 "nbformat": 4,
 "nbformat_minor": 0
}
